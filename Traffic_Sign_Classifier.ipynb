{
 "cells": [
  {
   "cell_type": "markdown",
   "metadata": {},
   "source": [
    "# Self-Driving Car Engineer Nanodegree\n",
    "\n",
    "## Deep Learning\n",
    "\n",
    "## Project: Build a Traffic Sign Recognition Classifier\n",
    "\n",
    "In this notebook, a template is provided for you to implement your functionality in stages, which is required to successfully complete this project. If additional code is required that cannot be included in the notebook, be sure that the Python code is successfully imported and included in your submission if necessary. \n",
    "\n",
    "> **Note**: Once you have completed all of the code implementations, you need to finalize your work by exporting the iPython Notebook as an HTML document. Before exporting the notebook to html, all of the code cells need to have been run so that reviewers can see the final implementation and output. You can then export the notebook by using the menu above and navigating to  \\n\",\n",
    "    \"**File -> Download as -> HTML (.html)**. Include the finished document along with this notebook as your submission. \n",
    "\n",
    "In addition to implementing code, there is a writeup to complete. The writeup should be completed in a separate file, which can be either a markdown file or a pdf document. There is a [write up template](https://github.com/udacity/CarND-Traffic-Sign-Classifier-Project/blob/master/writeup_template.md) that can be used to guide the writing process. Completing the code template and writeup template will cover all of the [rubric points](https://review.udacity.com/#!/rubrics/481/view) for this project.\n",
    "\n",
    "The [rubric](https://review.udacity.com/#!/rubrics/481/view) contains \"Stand Out Suggestions\" for enhancing the project beyond the minimum requirements. The stand out suggestions are optional. If you decide to pursue the \"stand out suggestions\", you can include the code in this Ipython notebook and also discuss the results in the writeup file.\n",
    "\n",
    "\n",
    ">**Note:** Code and Markdown cells can be executed using the **Shift + Enter** keyboard shortcut. In addition, Markdown cells can be edited by typically double-clicking the cell to enter edit mode."
   ]
  },
  {
   "cell_type": "markdown",
   "metadata": {},
   "source": [
    "---\n",
    "## Step 0: Load The Data"
   ]
  },
  {
   "cell_type": "code",
   "execution_count": 1,
   "metadata": {},
   "outputs": [],
   "source": [
    "# Run this cell in test phase\n",
    "# Load pickled data\n",
    "import pickle\n",
    "\n",
    "# TODO: Fill this in based on where you saved the training and testing data\n",
    "\n",
    "training_file = 'data/train.p'\n",
    "validation_file = 'data/valid.p'\n",
    "testing_file = 'data/test.p'\n",
    "\n",
    "with open(training_file, mode='rb') as f:\n",
    "    train = pickle.load(f)\n",
    "with open(validation_file, mode='rb') as f:\n",
    "    valid = pickle.load(f)\n",
    "with open(testing_file, mode='rb') as f:\n",
    "    test = pickle.load(f)\n",
    "    \n",
    "X_train, y_train = train['features'], train['labels']\n",
    "X_valid, y_valid = valid['features'], valid['labels']\n",
    "X_test, y_test = test['features'], test['labels']\n",
    "\n",
    "# Load sign names\n",
    "import pandas as pd\n",
    "sign_names = pd.read_csv('signnames.csv')"
   ]
  },
  {
   "cell_type": "markdown",
   "metadata": {},
   "source": [
    "---\n",
    "\n",
    "## Step 1: Dataset Summary & Exploration\n",
    "\n",
    "The pickled data is a dictionary with 4 key/value pairs:\n",
    "\n",
    "- `'features'` is a 4D array containing raw pixel data of the traffic sign images, (num examples, width, height, channels).\n",
    "- `'labels'` is a 1D array containing the label/class id of the traffic sign. The file `signnames.csv` contains id -> name mappings for each id.\n",
    "- `'sizes'` is a list containing tuples, (width, height) representing the original width and height the image.\n",
    "- `'coords'` is a list containing tuples, (x1, y1, x2, y2) representing coordinates of a bounding box around the sign in the image. **THESE COORDINATES ASSUME THE ORIGINAL IMAGE. THE PICKLED DATA CONTAINS RESIZED VERSIONS (32 by 32) OF THESE IMAGES**\n",
    "\n",
    "Complete the basic data summary below. Use python, numpy and/or pandas methods to calculate the data summary rather than hard coding the results. For example, the [pandas shape method](http://pandas.pydata.org/pandas-docs/stable/generated/pandas.DataFrame.shape.html) might be useful for calculating some of the summary results. "
   ]
  },
  {
   "cell_type": "markdown",
   "metadata": {},
   "source": [
    "### Provide a Basic Summary of the Data Set Using Python, Numpy and/or Pandas"
   ]
  },
  {
   "cell_type": "code",
   "execution_count": 2,
   "metadata": {},
   "outputs": [
    {
     "name": "stdout",
     "output_type": "stream",
     "text": [
      "Number of training examples = 34799\n",
      "Number of validation examples = 4410\n",
      "Number of testing examples = 12630\n",
      "Image data shape = (32, 32, 3)\n",
      "Number of classes = 43\n"
     ]
    }
   ],
   "source": [
    "# Run this cell in test phase\n",
    "### Replace each question mark with the appropriate value. \n",
    "### Use python, pandas or numpy methods rather than hard coding the results\n",
    "\n",
    "import numpy as np\n",
    "\n",
    "# TODO: Number of training examples\n",
    "n_train = len(X_train)\n",
    "\n",
    "# TODO: Number of validation examples\n",
    "n_validation = len(X_valid)\n",
    "\n",
    "# TODO: Number of testing examples.\n",
    "n_test = len(X_test)\n",
    "\n",
    "# TODO: What's the shape of an traffic sign image?\n",
    "image_shape = X_train.shape[1:]\n",
    "\n",
    "# TODO: How many unique classes/labels there are in the dataset.\n",
    "n_classes = len(np.unique(y_train))\n",
    "\n",
    "print(\"Number of training examples =\", n_train)\n",
    "print(\"Number of validation examples =\", n_validation)\n",
    "print(\"Number of testing examples =\", n_test)\n",
    "print(\"Image data shape =\", image_shape)\n",
    "print(\"Number of classes =\", n_classes)"
   ]
  },
  {
   "cell_type": "markdown",
   "metadata": {},
   "source": [
    "### Include an exploratory visualization of the dataset"
   ]
  },
  {
   "cell_type": "markdown",
   "metadata": {},
   "source": [
    "Visualize the German Traffic Signs Dataset using the pickled file(s). This is open ended, suggestions include: plotting traffic sign images, plotting the count of each sign, etc. \n",
    "\n",
    "The [Matplotlib](http://matplotlib.org/) [examples](http://matplotlib.org/examples/index.html) and [gallery](http://matplotlib.org/gallery.html) pages are a great resource for doing visualizations in Python.\n",
    "\n",
    "**NOTE:** It's recommended you start with something simple first. If you wish to do more, come back to it after you've completed the rest of the sections. It can be interesting to look at the distribution of classes in the training, validation and test set. Is the distribution the same? Are there more examples of some classes than others?"
   ]
  },
  {
   "cell_type": "code",
   "execution_count": 3,
   "metadata": {},
   "outputs": [
    {
     "name": "stdout",
     "output_type": "stream",
     "text": [
      "   ClassId              SignName\n",
      "1        1  Speed limit (30km/h)\n"
     ]
    },
    {
     "data": {
      "image/png": "[encoded data removed]",
      "text/plain": [
       "<matplotlib.figure.Figure at 0x7f0ce263dd68>"
      ]
     },
     "metadata": {
      "needs_background": "light"
     },
     "output_type": "display_data"
    }
   ],
   "source": [
    "# Run this cell in test phase\n",
    "### Data exploration visualization code goes here.\n",
    "### Feel free to use as many code cells as needed.\n",
    "import random\n",
    "import matplotlib.pyplot as plt\n",
    "# Visualizations will be shown in the notebook.\n",
    "%matplotlib inline\n",
    "\n",
    "random.seed(123)\n",
    "\n",
    "index = random.randint(0, len(X_train))\n",
    "image = X_train[index].squeeze()\n",
    "\n",
    "plt.figure(figsize=(1,1))\n",
    "plt.imshow(image)\n",
    "print(sign_names[sign_names['ClassId'] == y_train[index]])"
   ]
  },
  {
   "cell_type": "markdown",
   "metadata": {},
   "source": [
    "----\n",
    "\n",
    "## Step 2: Design and Test a Model Architecture\n",
    "\n",
    "Design and implement a deep learning model that learns to recognize traffic signs. Train and test your model on the [German Traffic Sign Dataset](http://benchmark.ini.rub.de/?section=gtsrb&subsection=dataset).\n",
    "\n",
    "The LeNet-5 implementation shown in the [classroom](https://classroom.udacity.com/nanodegrees/nd013/parts/fbf77062-5703-404e-b60c-95b78b2f3f9e/modules/6df7ae49-c61c-4bb2-a23e-6527e69209ec/lessons/601ae704-1035-4287-8b11-e2c2716217ad/concepts/d4aca031-508f-4e0b-b493-e7b706120f81) at the end of the CNN lesson is a solid starting point. You'll have to change the number of classes and possibly the preprocessing, but aside from that it's plug and play! \n",
    "\n",
    "With the LeNet-5 solution from the lecture, you should expect a validation set accuracy of about 0.89. To meet specifications, the validation set accuracy will need to be at least 0.93. It is possible to get an even higher accuracy, but 0.93 is the minimum for a successful project submission. \n",
    "\n",
    "There are various aspects to consider when thinking about this problem:\n",
    "\n",
    "- Neural network architecture (is the network over or underfitting?)\n",
    "- Play around preprocessing techniques (normalization, rgb to grayscale, etc)\n",
    "- Number of examples per label (some have more than others).\n",
    "- Generate fake data.\n",
    "\n",
    "Here is an example of a [published baseline model on this problem](http://yann.lecun.com/exdb/publis/pdf/sermanet-ijcnn-11.pdf). It's not required to be familiar with the approach used in the paper but, it's good practice to try to read papers like these."
   ]
  },
  {
   "cell_type": "markdown",
   "metadata": {},
   "source": [
    "### Pre-process the Data Set (normalization, grayscale, etc.)"
   ]
  },
  {
   "cell_type": "markdown",
   "metadata": {},
   "source": [
    "Minimally, the image data should be normalized so that the data has mean zero and equal variance. For image data, `(pixel - 128)/ 128` is a quick way to approximately normalize the data and can be used in this project. \n",
    "\n",
    "Other pre-processing steps are optional. You can try different techniques to see if it improves performance. \n",
    "\n",
    "Use the code cell (or multiple code cells, if necessary) to implement the first step of your project."
   ]
  },
  {
   "cell_type": "code",
   "execution_count": 4,
   "metadata": {},
   "outputs": [],
   "source": [
    "# Run this cell in test phase\n",
    "### Data augmentation\n",
    "\n",
    "from sklearn.utils import shuffle\n",
    "from scipy import ndimage\n",
    "import cv2"
   ]
  },
  {
   "cell_type": "code",
   "execution_count": 5,
   "metadata": {},
   "outputs": [],
   "source": [
    "# Run this cell in test phase\n",
    "### Preprocess the data here. It is required to normalize the data. Other preprocessing steps could include \n",
    "### converting to grayscale, etc.\n",
    "### Feel free to use as many code cells as needed.\n",
    "\n",
    "def rotate(img):\n",
    "    angle = random.randint(-20, 20)\n",
    "    return ndimage.rotate(img, angle, reshape=False)\n",
    "\n",
    "def translate(img):\n",
    "    x_shift = random.randint(-4, 4)\n",
    "    y_shift = random.randint(-4, 4)\n",
    "    return ndimage.interpolation.shift(img, (x_shift, y_shift, 0))\n",
    "\n",
    "def lighting(img):\n",
    "    gaussian = np.random.random(image_shape).astype(np.float32)\n",
    "    return cv2.addWeighted(img, 0.75, -0.25 * gaussian, 0.25, 0)\n",
    "\n",
    "augment_methods = [rotate, translate, lighting]\n",
    "\n",
    "def augment_dataset(X, include_original=True):\n",
    "    augmented = []\n",
    "    for i in range(len(X)):\n",
    "        img = X[i]\n",
    "        if include_original:\n",
    "            augmented.append(img)\n",
    "        for f in augment_methods:\n",
    "            augmented.append(f(img))\n",
    "    return np.array(augmented)"
   ]
  },
  {
   "cell_type": "code",
   "execution_count": 6,
   "metadata": {},
   "outputs": [
    {
     "data": {
      "image/png": "[encoded data removed]",
      "text/plain": [
       "<matplotlib.figure.Figure at 0x7f0cc0004fd0>"
      ]
     },
     "metadata": {
      "needs_background": "light"
     },
     "output_type": "display_data"
    }
   ],
   "source": [
    "augment_test = augment_dataset(np.float32(X_train[0:3]))\n",
    "\n",
    "fig_col = len(augment_methods)+1\n",
    "fig_row = len(augment_test)/fig_col\n",
    "\n",
    "f = plt.figure(figsize=(9,5))\n",
    "f.tight_layout()\n",
    "for i in range(0, len(augment_test)):\n",
    "    img = augment_test[i]\n",
    "    f.add_subplot(fig_row, fig_col, i+1)\n",
    "    plt.imshow(np.uint8(img))"
   ]
  },
  {
   "cell_type": "code",
   "execution_count": 7,
   "metadata": {},
   "outputs": [
    {
     "name": "stdout",
     "output_type": "stream",
     "text": [
      "[41 41 41 41 41 41 41 41 41 41 41 41]\n"
     ]
    }
   ],
   "source": [
    "augment_test_y = np.repeat(y_train[0:3], 4)\n",
    "print(augment_test_y)"
   ]
  },
  {
   "cell_type": "code",
   "execution_count": 8,
   "metadata": {},
   "outputs": [
    {
     "name": "stdout",
     "output_type": "stream",
     "text": [
      "(139196, 32, 32, 3)\n",
      "(139196,)\n"
     ]
    }
   ],
   "source": [
    "X_train_a = augment_dataset(X_train.astype(np.float32))\n",
    "y_train_a = np.repeat(y_train, len(augment_methods)+1)\n",
    "\n",
    "# X_train_a = np.load('data/x_train_aug.npy')\n",
    "# y_train_a = np.load('data/y_train_aug.npy')\n",
    "\n",
    "print(X_train_a.shape)\n",
    "print(y_train_a.shape)"
   ]
  },
  {
   "cell_type": "code",
   "execution_count": 10,
   "metadata": {},
   "outputs": [
    {
     "name": "stdout",
     "output_type": "stream",
     "text": [
      "    ClassId SignName\n",
      "13       13    Yield\n"
     ]
    },
    {
     "data": {
      "image/png": "[encoded data removed]",
      "text/plain": [
       "<matplotlib.figure.Figure at 0x7f0ca5a03f98>"
      ]
     },
     "metadata": {
      "needs_background": "light"
     },
     "output_type": "display_data"
    }
   ],
   "source": [
    "rindex = random.randint(0, len(X_train_a))\n",
    "rimage = X_train_a[rindex].squeeze()\n",
    "\n",
    "plt.figure(figsize=(2,2))\n",
    "plt.imshow(np.uint8(rimage))\n",
    "print(sign_names[sign_names['ClassId'] == y_train_a[rindex]])"
   ]
  },
  {
   "cell_type": "code",
   "execution_count": 12,
   "metadata": {},
   "outputs": [
    {
     "name": "stdout",
     "output_type": "stream",
     "text": [
      "(139196, 32, 32, 1)\n"
     ]
    }
   ],
   "source": []
  },
  {
   "cell_type": "code",
   "execution_count": 14,
   "metadata": {},
   "outputs": [
    {
     "data": {
      "text/plain": [
       "<matplotlib.image.AxesImage at 0x7f411aa706d8>"
      ]
     },
     "execution_count": 14,
     "metadata": {},
     "output_type": "execute_result"
    },
    {
     "data": {
      "image/png": "[encoded data removed]",
      "text/plain": [
       "<matplotlib.figure.Figure at 0x7f411aada9b0>"
      ]
     },
     "metadata": {
      "needs_background": "light"
     },
     "output_type": "display_data"
    }
   ],
   "source": []
  },
  {
   "cell_type": "code",
   "execution_count": 196,
   "metadata": {},
   "outputs": [],
   "source": [
    "# np.save('data/x_train_aug', X_train_a)\n",
    "# np.save('data/y_train_aug', y_train_a)"
   ]
  },
  {
   "cell_type": "code",
   "execution_count": 11,
   "metadata": {},
   "outputs": [
    {
     "name": "stdout",
     "output_type": "stream",
     "text": [
      "[-0.78125   -0.8046875 -0.8125   ]\n",
      "[-0.78125   -0.8046875 -0.8125   ]\n",
      "[-0.8984375 -0.90625   -0.90625  ]\n"
     ]
    }
   ],
   "source": [
    "# Run this cell in test phase\n",
    "# Normalize features\n",
    "X_train_o = X_train.astype(np.float32)\n",
    "X_valid_o = X_valid.astype(np.float32)\n",
    "\n",
    "X_train_a = (X_train_a - 128)/128\n",
    "X_train_o = (X_train_o - 128)/128\n",
    "X_valid_o = (X_valid_o - 128)/128\n",
    "\n",
    "print(X_train_a[0,0,0])\n",
    "print(X_train_o[0,0,0])\n",
    "print(X_valid_o[0,0,0])\n",
    "\n",
    "X_train_gray = np.sum(X_train_a/3, axis=3, keepdims=True)\n",
    "X_valid_gray = np.sum(X_valid_o/3, axis=3, keepdims=True)"
   ]
  },
  {
   "cell_type": "markdown",
   "metadata": {},
   "source": [
    "### Model Architecture"
   ]
  },
  {
   "cell_type": "code",
   "execution_count": 12,
   "metadata": {},
   "outputs": [
    {
     "name": "stderr",
     "output_type": "stream",
     "text": [
      "/opt/conda/lib/python3.6/site-packages/h5py/__init__.py:36: FutureWarning: Conversion of the second argument of issubdtype from `float` to `np.floating` is deprecated. In future, it will be treated as `np.float64 == np.dtype(float).type`.\n",
      "  from ._conv import register_converters as _register_converters\n"
     ]
    }
   ],
   "source": [
    "# Run this cell in test phase\n",
    "### Define your architecture here.\n",
    "### Feel free to use as many code cells as needed.\n",
    "\n",
    "import tensorflow as tf\n",
    "from tensorflow.contrib.layers import flatten\n",
    "from IPython.display import clear_output\n",
    "\n",
    "EPOCHS = 100\n",
    "BATCH_SIZE = 128\n",
    "N_TRAIN = len(X_train) * (len(augment_methods)+1)\n",
    "\n",
    "def LeNet(x, keep_prob):    \n",
    "    # Arguments used for tf.truncated_normal, randomly defines variables for the weights and biases for each layer\n",
    "    mu = 0\n",
    "    sigma = 0.1\n",
    "    \n",
    "    # Layer 1: Convolutional. Input = 32x32x3. Output = 28x28x6.\n",
    "    conv1_W = tf.Variable(tf.truncated_normal(shape=(5, 5, 1, 6), mean = mu, stddev = sigma))\n",
    "    conv1_b = tf.Variable(tf.zeros(6))\n",
    "    conv1   = tf.nn.conv2d(x, conv1_W, strides=[1, 1, 1, 1], padding='VALID') + conv1_b\n",
    "\n",
    "    # Activation.\n",
    "    conv1 = tf.nn.relu(conv1)\n",
    "\n",
    "    # Pooling. Input = 28x28x6. Output = 14x14x6.\n",
    "    conv1 = tf.nn.max_pool(conv1, ksize=[1, 2, 2, 1], strides=[1, 2, 2, 1], padding='VALID')\n",
    "\n",
    "    # Layer 2: Convolutional. Output = 10x10x16.\n",
    "    conv2_W = tf.Variable(tf.truncated_normal(shape=(5, 5, 6, 16), mean = mu, stddev = sigma))\n",
    "    conv2_b = tf.Variable(tf.zeros(16))\n",
    "    conv2   = tf.nn.conv2d(conv1, conv2_W, strides=[1, 1, 1, 1], padding='VALID') + conv2_b\n",
    "    \n",
    "    # Activation.\n",
    "    conv2 = tf.nn.relu(conv2)\n",
    "\n",
    "    # Pooling. Input = 10x10x16. Output = 5x5x16.\n",
    "    conv2 = tf.nn.max_pool(conv2, ksize=[1, 2, 2, 1], strides=[1, 2, 2, 1], padding='VALID')\n",
    "\n",
    "    # Flatten. Input = 5x5x16. Output = 400.\n",
    "    fc0   = flatten(conv2)\n",
    "    fc0 = tf.nn.dropout(fc0, keep_prob)\n",
    "    \n",
    "    # Layer 3: Fully Connected. Input = 400. Output = 120.\n",
    "    fc1_W = tf.Variable(tf.truncated_normal(shape=(400, 120), mean = mu, stddev = sigma))\n",
    "    fc1_b = tf.Variable(tf.zeros(120))\n",
    "    fc1   = tf.matmul(fc0, fc1_W) + fc1_b\n",
    "    \n",
    "    # Activation.\n",
    "    fc1    = tf.nn.relu(fc1)\n",
    "    fc1 = tf.nn.dropout(fc1, keep_prob)\n",
    "\n",
    "    # Layer 4: Fully Connected. Input = 120. Output = 84.\n",
    "    fc2_W  = tf.Variable(tf.truncated_normal(shape=(120, 84), mean = mu, stddev = sigma))\n",
    "    fc2_b  = tf.Variable(tf.zeros(84))\n",
    "    fc2    = tf.matmul(fc1, fc2_W) + fc2_b\n",
    "    \n",
    "    # Activation.\n",
    "    fc2    = tf.nn.relu(fc2)\n",
    "    fc2 = tf.nn.dropout(fc2, keep_prob)\n",
    "\n",
    "    # Layer 5: Fully Connected. Input = 84. Output = 43.\n",
    "    fc3_W  = tf.Variable(tf.truncated_normal(shape=(84, n_classes), mean = mu, stddev = sigma))\n",
    "    fc3_b  = tf.Variable(tf.zeros(n_classes))\n",
    "    logits = tf.matmul(fc2, fc3_W) + fc3_b\n",
    "    \n",
    "    return logits"
   ]
  },
  {
   "cell_type": "markdown",
   "metadata": {},
   "source": [
    "### Train, Validate and Test the Model"
   ]
  },
  {
   "cell_type": "markdown",
   "metadata": {},
   "source": [
    "A validation set can be used to assess how well the model is performing. A low accuracy on the training and validation\n",
    "sets imply underfitting. A high accuracy on the training set but low accuracy on the validation set implies overfitting."
   ]
  },
  {
   "cell_type": "code",
   "execution_count": 13,
   "metadata": {},
   "outputs": [],
   "source": [
    "# Run this cell in test phase\n",
    "### Train your model here.\n",
    "### Calculate and report the accuracy on the training and validation set.\n",
    "### Once a final model architecture is selected, \n",
    "### the accuracy on the test set should be calculated and reported as well.\n",
    "### Feel free to use as many code cells as needed.\n",
    "\n",
    "x = tf.placeholder(tf.float32, (None, 32, 32, 1))\n",
    "y = tf.placeholder(tf.int32, (None))\n",
    "one_hot_y = tf.one_hot(y, n_classes)\n",
    "keep_prob = tf.placeholder(tf.float32)\n",
    "\n",
    "learning_rate = 0.001\n",
    "logits = LeNet(x, keep_prob)\n",
    "cross_entropy = tf.nn.softmax_cross_entropy_with_logits(labels=one_hot_y, logits=logits)\n",
    "loss_operation = tf.reduce_mean(cross_entropy)\n",
    "optimizer = tf.train.AdamOptimizer(learning_rate = learning_rate)\n",
    "training_operation = optimizer.minimize(loss_operation)\n",
    "\n",
    "clear_output()"
   ]
  },
  {
   "cell_type": "code",
   "execution_count": 14,
   "metadata": {},
   "outputs": [],
   "source": [
    "# Run this cell in test phase\n",
    "correct_prediction = tf.equal(tf.argmax(logits, 1), tf.argmax(one_hot_y, 1))\n",
    "accuracy_operation = tf.reduce_mean(tf.cast(correct_prediction, tf.float32))\n",
    "model_filename = './lenet_gray/lenet'\n",
    "\n",
    "def evaluate(X_data, y_data):\n",
    "    num_examples = len(X_data)\n",
    "    total_accuracy = 0\n",
    "    sess = tf.get_default_session()\n",
    "    counter=0\n",
    "    for offset in range(0, num_examples, BATCH_SIZE):\n",
    "        batch_x, batch_y = X_data[offset:offset+BATCH_SIZE], y_data[offset:offset+BATCH_SIZE]\n",
    "        accuracy = sess.run(accuracy_operation, feed_dict={x: batch_x, y: batch_y, keep_prob: 1.0})\n",
    "        total_accuracy += (accuracy * len(batch_x))\n",
    "    return total_accuracy / num_examples"
   ]
  },
  {
   "cell_type": "code",
   "execution_count": 16,
   "metadata": {},
   "outputs": [
    {
     "name": "stdout",
     "output_type": "stream",
     "text": [
      "Training...\n",
      "\n",
      "Model saved\n",
      "EPOCH 1 ...\n",
      "Original Train Accuracy = 0.814\n",
      "Validation Accuracy = 0.851\n",
      "\n",
      "Model saved\n",
      "EPOCH 2 ...\n",
      "Original Train Accuracy = 0.899\n",
      "Validation Accuracy = 0.909\n",
      "\n",
      "Model saved\n",
      "EPOCH 3 ...\n",
      "Original Train Accuracy = 0.931\n",
      "Validation Accuracy = 0.931\n",
      "\n",
      "Model saved\n",
      "EPOCH 4 ...\n",
      "Original Train Accuracy = 0.943\n",
      "Validation Accuracy = 0.950\n",
      "\n",
      "Model saved\n",
      "EPOCH 5 ...\n",
      "Original Train Accuracy = 0.957\n",
      "Validation Accuracy = 0.951\n",
      "\n",
      "EPOCH 6 ...\n",
      "Original Train Accuracy = 0.964\n",
      "Validation Accuracy = 0.950\n",
      "\n",
      "EPOCH 7 ...\n",
      "Original Train Accuracy = 0.969\n",
      "Validation Accuracy = 0.950\n",
      "\n",
      "Model saved\n",
      "EPOCH 8 ...\n",
      "Original Train Accuracy = 0.974\n",
      "Validation Accuracy = 0.958\n",
      "\n",
      "EPOCH 9 ...\n",
      "Original Train Accuracy = 0.975\n",
      "Validation Accuracy = 0.954\n",
      "\n",
      "Model saved\n",
      "EPOCH 10 ...\n",
      "Original Train Accuracy = 0.979\n",
      "Validation Accuracy = 0.960\n",
      "\n",
      "Model saved\n",
      "EPOCH 11 ...\n",
      "Original Train Accuracy = 0.979\n",
      "Validation Accuracy = 0.961\n",
      "\n",
      "Model saved\n",
      "EPOCH 12 ...\n",
      "Original Train Accuracy = 0.981\n",
      "Validation Accuracy = 0.962\n",
      "\n",
      "Model saved\n",
      "EPOCH 13 ...\n",
      "Original Train Accuracy = 0.983\n",
      "Validation Accuracy = 0.964\n",
      "\n",
      "Model saved\n",
      "EPOCH 14 ...\n",
      "Original Train Accuracy = 0.984\n",
      "Validation Accuracy = 0.966\n",
      "\n",
      "Model saved\n",
      "EPOCH 15 ...\n",
      "Original Train Accuracy = 0.986\n",
      "Validation Accuracy = 0.967\n",
      "\n",
      "EPOCH 16 ...\n",
      "Original Train Accuracy = 0.987\n",
      "Validation Accuracy = 0.963\n",
      "\n",
      "Model saved\n",
      "EPOCH 17 ...\n",
      "Original Train Accuracy = 0.988\n",
      "Validation Accuracy = 0.971\n",
      "\n",
      "EPOCH 18 ...\n",
      "Original Train Accuracy = 0.988\n",
      "Validation Accuracy = 0.965\n",
      "\n",
      "Model saved\n",
      "EPOCH 19 ...\n",
      "Original Train Accuracy = 0.989\n",
      "Validation Accuracy = 0.973\n",
      "\n",
      "EPOCH 20 ...\n",
      "Original Train Accuracy = 0.989\n",
      "Validation Accuracy = 0.969\n",
      "\n",
      "EPOCH 21 ...\n",
      "Original Train Accuracy = 0.991\n",
      "Validation Accuracy = 0.971\n",
      "\n",
      "EPOCH 22 ...\n",
      "Original Train Accuracy = 0.990\n",
      "Validation Accuracy = 0.971\n",
      "\n",
      "EPOCH 23 ...\n",
      "Original Train Accuracy = 0.991\n",
      "Validation Accuracy = 0.967\n",
      "\n",
      "Model saved\n",
      "EPOCH 24 ...\n",
      "Original Train Accuracy = 0.990\n",
      "Validation Accuracy = 0.980\n",
      "\n",
      "EPOCH 25 ...\n",
      "Original Train Accuracy = 0.991\n",
      "Validation Accuracy = 0.965\n",
      "\n",
      "EPOCH 26 ...\n",
      "Original Train Accuracy = 0.992\n",
      "Validation Accuracy = 0.973\n",
      "\n",
      "EPOCH 27 ...\n",
      "Original Train Accuracy = 0.993\n",
      "Validation Accuracy = 0.972\n",
      "\n",
      "EPOCH 28 ...\n",
      "Original Train Accuracy = 0.992\n",
      "Validation Accuracy = 0.976\n",
      "\n",
      "EPOCH 29 ...\n",
      "Original Train Accuracy = 0.992\n",
      "Validation Accuracy = 0.973\n",
      "\n",
      "EPOCH 30 ...\n",
      "Original Train Accuracy = 0.993\n",
      "Validation Accuracy = 0.971\n",
      "\n",
      "EPOCH 31 ...\n",
      "Original Train Accuracy = 0.993\n",
      "Validation Accuracy = 0.973\n",
      "\n",
      "EPOCH 32 ...\n",
      "Original Train Accuracy = 0.993\n",
      "Validation Accuracy = 0.971\n",
      "\n",
      "EPOCH 33 ...\n",
      "Original Train Accuracy = 0.993\n",
      "Validation Accuracy = 0.972\n",
      "\n",
      "EPOCH 34 ...\n",
      "Original Train Accuracy = 0.992\n",
      "Validation Accuracy = 0.965\n",
      "\n",
      "EPOCH 35 ...\n",
      "Original Train Accuracy = 0.994\n",
      "Validation Accuracy = 0.972\n",
      "\n",
      "EPOCH 36 ...\n",
      "Original Train Accuracy = 0.995\n",
      "Validation Accuracy = 0.977\n",
      "\n",
      "EPOCH 37 ...\n",
      "Original Train Accuracy = 0.995\n",
      "Validation Accuracy = 0.976\n",
      "\n",
      "EPOCH 38 ...\n",
      "Original Train Accuracy = 0.994\n",
      "Validation Accuracy = 0.972\n",
      "\n",
      "EPOCH 39 ...\n",
      "Original Train Accuracy = 0.995\n",
      "Validation Accuracy = 0.975\n",
      "\n",
      "EPOCH 40 ...\n",
      "Original Train Accuracy = 0.994\n",
      "Validation Accuracy = 0.968\n",
      "\n",
      "EPOCH 41 ...\n",
      "Original Train Accuracy = 0.996\n",
      "Validation Accuracy = 0.974\n",
      "\n",
      "EPOCH 42 ...\n",
      "Original Train Accuracy = 0.994\n",
      "Validation Accuracy = 0.973\n",
      "\n",
      "EPOCH 43 ...\n",
      "Original Train Accuracy = 0.995\n",
      "Validation Accuracy = 0.978\n",
      "\n",
      "EPOCH 44 ...\n",
      "Original Train Accuracy = 0.988\n",
      "Validation Accuracy = 0.970\n",
      "\n",
      "EPOCH 45 ...\n",
      "Original Train Accuracy = 0.995\n",
      "Validation Accuracy = 0.975\n",
      "\n",
      "EPOCH 46 ...\n",
      "Original Train Accuracy = 0.995\n",
      "Validation Accuracy = 0.978\n",
      "\n",
      "EPOCH 47 ...\n",
      "Original Train Accuracy = 0.996\n",
      "Validation Accuracy = 0.978\n",
      "\n",
      "EPOCH 48 ...\n",
      "Original Train Accuracy = 0.995\n",
      "Validation Accuracy = 0.976\n",
      "\n",
      "EPOCH 49 ...\n",
      "Original Train Accuracy = 0.996\n",
      "Validation Accuracy = 0.976\n",
      "\n",
      "EPOCH 50 ...\n",
      "Original Train Accuracy = 0.996\n",
      "Validation Accuracy = 0.977\n",
      "\n",
      "EPOCH 51 ...\n",
      "Original Train Accuracy = 0.995\n",
      "Validation Accuracy = 0.974\n",
      "\n",
      "EPOCH 52 ...\n",
      "Original Train Accuracy = 0.996\n",
      "Validation Accuracy = 0.979\n",
      "\n",
      "EPOCH 53 ...\n",
      "Original Train Accuracy = 0.994\n",
      "Validation Accuracy = 0.976\n",
      "\n",
      "EPOCH 54 ...\n",
      "Original Train Accuracy = 0.995\n",
      "Validation Accuracy = 0.978\n",
      "\n",
      "EPOCH 55 ...\n",
      "Original Train Accuracy = 0.995\n",
      "Validation Accuracy = 0.976\n",
      "\n",
      "EPOCH 56 ...\n",
      "Original Train Accuracy = 0.995\n",
      "Validation Accuracy = 0.976\n",
      "\n",
      "EPOCH 57 ...\n",
      "Original Train Accuracy = 0.995\n",
      "Validation Accuracy = 0.974\n",
      "\n",
      "EPOCH 58 ...\n",
      "Original Train Accuracy = 0.997\n",
      "Validation Accuracy = 0.977\n",
      "\n",
      "EPOCH 59 ...\n",
      "Original Train Accuracy = 0.993\n",
      "Validation Accuracy = 0.979\n",
      "\n",
      "EPOCH 60 ...\n",
      "Original Train Accuracy = 0.997\n",
      "Validation Accuracy = 0.979\n",
      "\n",
      "EPOCH 61 ...\n",
      "Original Train Accuracy = 0.996\n",
      "Validation Accuracy = 0.980\n",
      "\n",
      "EPOCH 62 ...\n",
      "Original Train Accuracy = 0.997\n",
      "Validation Accuracy = 0.977\n",
      "\n",
      "EPOCH 63 ...\n",
      "Original Train Accuracy = 0.997\n",
      "Validation Accuracy = 0.979\n",
      "\n",
      "EPOCH 64 ...\n",
      "Original Train Accuracy = 0.995\n",
      "Validation Accuracy = 0.979\n",
      "\n",
      "Model saved\n",
      "EPOCH 65 ...\n",
      "Original Train Accuracy = 0.997\n",
      "Validation Accuracy = 0.983\n",
      "\n",
      "EPOCH 66 ...\n",
      "Original Train Accuracy = 0.996\n",
      "Validation Accuracy = 0.976\n",
      "\n",
      "EPOCH 67 ...\n",
      "Original Train Accuracy = 0.995\n",
      "Validation Accuracy = 0.973\n",
      "\n",
      "EPOCH 68 ...\n",
      "Original Train Accuracy = 0.997\n",
      "Validation Accuracy = 0.981\n",
      "\n",
      "EPOCH 69 ...\n",
      "Original Train Accuracy = 0.997\n",
      "Validation Accuracy = 0.977\n",
      "\n",
      "EPOCH 70 ...\n",
      "Original Train Accuracy = 0.996\n",
      "Validation Accuracy = 0.978\n",
      "\n",
      "EPOCH 71 ...\n",
      "Original Train Accuracy = 0.997\n",
      "Validation Accuracy = 0.975\n",
      "\n",
      "EPOCH 72 ...\n",
      "Original Train Accuracy = 0.997\n",
      "Validation Accuracy = 0.979\n",
      "\n",
      "EPOCH 73 ...\n",
      "Original Train Accuracy = 0.997\n",
      "Validation Accuracy = 0.979\n",
      "\n",
      "EPOCH 74 ...\n",
      "Original Train Accuracy = 0.997\n",
      "Validation Accuracy = 0.977\n",
      "\n",
      "EPOCH 75 ...\n",
      "Original Train Accuracy = 0.997\n",
      "Validation Accuracy = 0.974\n",
      "\n",
      "EPOCH 76 ...\n",
      "Original Train Accuracy = 0.997\n",
      "Validation Accuracy = 0.979\n",
      "\n",
      "Model saved\n",
      "EPOCH 77 ...\n",
      "Original Train Accuracy = 0.997\n",
      "Validation Accuracy = 0.983\n",
      "\n",
      "EPOCH 78 ...\n",
      "Original Train Accuracy = 0.997\n",
      "Validation Accuracy = 0.980\n",
      "\n",
      "EPOCH 79 ...\n",
      "Original Train Accuracy = 0.995\n",
      "Validation Accuracy = 0.977\n",
      "\n",
      "EPOCH 80 ...\n",
      "Original Train Accuracy = 0.996\n",
      "Validation Accuracy = 0.977\n",
      "\n",
      "EPOCH 81 ...\n",
      "Original Train Accuracy = 0.997\n",
      "Validation Accuracy = 0.980\n",
      "\n",
      "EPOCH 82 ...\n",
      "Original Train Accuracy = 0.997\n",
      "Validation Accuracy = 0.978\n",
      "\n",
      "EPOCH 83 ...\n",
      "Original Train Accuracy = 0.998\n",
      "Validation Accuracy = 0.979\n",
      "\n",
      "EPOCH 84 ...\n",
      "Original Train Accuracy = 0.997\n",
      "Validation Accuracy = 0.980\n",
      "\n",
      "EPOCH 85 ...\n",
      "Original Train Accuracy = 0.996\n",
      "Validation Accuracy = 0.971\n",
      "\n",
      "EPOCH 86 ...\n",
      "Original Train Accuracy = 0.997\n",
      "Validation Accuracy = 0.978\n",
      "\n",
      "EPOCH 87 ...\n",
      "Original Train Accuracy = 0.997\n",
      "Validation Accuracy = 0.977\n",
      "\n",
      "EPOCH 88 ...\n",
      "Original Train Accuracy = 0.996\n",
      "Validation Accuracy = 0.980\n",
      "\n",
      "EPOCH 89 ...\n",
      "Original Train Accuracy = 0.997\n",
      "Validation Accuracy = 0.976\n",
      "\n",
      "EPOCH 90 ...\n",
      "Original Train Accuracy = 0.997\n",
      "Validation Accuracy = 0.978\n",
      "\n",
      "EPOCH 91 ...\n",
      "Original Train Accuracy = 0.997\n",
      "Validation Accuracy = 0.980\n",
      "\n",
      "EPOCH 92 ...\n",
      "Original Train Accuracy = 0.997\n",
      "Validation Accuracy = 0.976\n",
      "\n",
      "EPOCH 93 ...\n",
      "Original Train Accuracy = 0.997\n",
      "Validation Accuracy = 0.977\n",
      "\n",
      "EPOCH 94 ...\n",
      "Original Train Accuracy = 0.998\n",
      "Validation Accuracy = 0.977\n",
      "\n",
      "EPOCH 95 ...\n",
      "Original Train Accuracy = 0.997\n",
      "Validation Accuracy = 0.981\n",
      "\n",
      "EPOCH 96 ...\n",
      "Original Train Accuracy = 0.998\n",
      "Validation Accuracy = 0.980\n",
      "\n",
      "EPOCH 97 ...\n",
      "Original Train Accuracy = 0.996\n",
      "Validation Accuracy = 0.976\n",
      "\n",
      "EPOCH 98 ...\n",
      "Original Train Accuracy = 0.997\n",
      "Validation Accuracy = 0.978\n",
      "\n",
      "EPOCH 99 ...\n",
      "Original Train Accuracy = 0.998\n",
      "Validation Accuracy = 0.979\n",
      "\n",
      "EPOCH 100 ...\n",
      "Original Train Accuracy = 0.997\n",
      "Validation Accuracy = 0.982\n",
      "\n"
     ]
    }
   ],
   "source": [
    "max_accuracy = 0\n",
    "saver = tf.train.Saver()\n",
    "\n",
    "with tf.Session(config=tf.ConfigProto(log_device_placement=True)) as sess:\n",
    "# with tf.Session() as sess:\n",
    "    sess.run(tf.global_variables_initializer())\n",
    "\n",
    "    print(\"Training...\")\n",
    "    print()\n",
    "    for i in range(1, EPOCHS+1):\n",
    "        X_train_gray, y_train_a = shuffle(X_train_gray, y_train_a)\n",
    "        for offset in range(0, N_TRAIN, BATCH_SIZE):\n",
    "            end = offset + BATCH_SIZE\n",
    "            batch_x, batch_y = X_train_gray[offset:end], y_train_a[offset:end]\n",
    "            sess.run(training_operation, feed_dict={x: batch_x, y: batch_y, keep_prob: 0.8})\n",
    "\n",
    "        train_accuracy_original = evaluate(X_train_gray, y_train_a)\n",
    "        valid_accuracy = evaluate(X_valid_gray, y_valid)\n",
    "        \n",
    "        if valid_accuracy > max_accuracy:\n",
    "            max_accuracy = valid_accuracy\n",
    "            saver.save(sess, model_filename)\n",
    "            print(\"Model saved\")\n",
    "        \n",
    "        print(\"EPOCH {} ...\".format(i))\n",
    "        print(\"Original Train Accuracy = {:.3f}\".format(train_accuracy_original))\n",
    "        print(\"Validation Accuracy = {:.3f}\".format(valid_accuracy))\n",
    "        print()"
   ]
  },
  {
   "cell_type": "markdown",
   "metadata": {},
   "source": [
    "---\n",
    "\n",
    "## Step 3: Test a Model on New Images\n",
    "\n",
    "To give yourself more insight into how your model is working, download at least five pictures of German traffic signs from the web and use your model to predict the traffic sign type.\n",
    "\n",
    "You may find `signnames.csv` useful as it contains mappings from the class id (integer) to the actual sign name."
   ]
  },
  {
   "cell_type": "markdown",
   "metadata": {},
   "source": [
    "### Load and Output the Images"
   ]
  },
  {
   "cell_type": "code",
   "execution_count": 48,
   "metadata": {},
   "outputs": [],
   "source": [
    "### Load the images and plot them here.\n",
    "### Feel free to use as many code cells as needed."
   ]
  },
  {
   "cell_type": "markdown",
   "metadata": {},
   "source": [
    "### Predict the Sign Type for Each Image"
   ]
  },
  {
   "cell_type": "code",
   "execution_count": 10,
   "metadata": {},
   "outputs": [
    {
     "name": "stdout",
     "output_type": "stream",
     "text": [
      "INFO:tensorflow:Restoring parameters from ./lenet_gray/lenet\n",
      "Validation Accuracy: 0.8612247705459595\n",
      "Test Accuracy: 0.8670629858970642\n"
     ]
    }
   ],
   "source": [
    "### Run the predictions here and use the model to output the prediction for each image.\n",
    "### Make sure to pre-process the images with the same pre-processing pipeline used earlier.\n",
    "### Feel free to use as many code cells as needed.\n",
    "\n",
    "X_test_o = X_test.astype(np.float32)\n",
    "X_test_o =  (X_test_o - 128)/128\n",
    "X_test_gray = np.sum(X_test_o/3, axis=3, keepdims=True)\n",
    "saver = tf.train.Saver()\n",
    "\n",
    "with tf.Session() as sess:\n",
    "    saver.restore(sess, model_filename)\n",
    "#     print([n.name for n in tf.get_default_graph().as_graph_def().node])\n",
    "\n",
    "    valid_accuracy = sess.run(accuracy_operation, feed_dict={x: X_valid_gray, y: y_valid, keep_prob: 1.0})\n",
    "    test_accuracy = sess.run(accuracy_operation, feed_dict={x: X_test_gray, y: y_test, keep_prob: 1.0})\n",
    "\n",
    "print('Validation Accuracy: {}'.format(valid_accuracy))\n",
    "print('Test Accuracy: {}'.format(test_accuracy))"
   ]
  },
  {
   "cell_type": "markdown",
   "metadata": {},
   "source": [
    "### Analyze Performance"
   ]
  },
  {
   "cell_type": "code",
   "execution_count": 4,
   "metadata": {
    "collapsed": true
   },
   "outputs": [],
   "source": [
    "### Calculate the accuracy for these 5 new images. \n",
    "### For example, if the model predicted 1 out of 5 signs correctly, it's 20% accurate on these new images."
   ]
  },
  {
   "cell_type": "markdown",
   "metadata": {},
   "source": [
    "### Output Top 5 Softmax Probabilities For Each Image Found on the Web"
   ]
  },
  {
   "cell_type": "markdown",
   "metadata": {},
   "source": [
    "For each of the new images, print out the model's softmax probabilities to show the **certainty** of the model's predictions (limit the output to the top 5 probabilities for each image). [`tf.nn.top_k`](https://www.tensorflow.org/versions/r0.12/api_docs/python/nn.html#top_k) could prove helpful here. \n",
    "\n",
    "The example below demonstrates how tf.nn.top_k can be used to find the top k predictions for each image.\n",
    "\n",
    "`tf.nn.top_k` will return the values and indices (class ids) of the top k predictions. So if k=3, for each sign, it'll return the 3 largest probabilities (out of a possible 43) and the correspoding class ids.\n",
    "\n",
    "Take this numpy array as an example. The values in the array represent predictions. The array contains softmax probabilities for five candidate images with six possible classes. `tf.nn.top_k` is used to choose the three classes with the highest probability:\n",
    "\n",
    "```\n",
    "# (5, 6) array\n",
    "a = np.array([[ 0.24879643,  0.07032244,  0.12641572,  0.34763842,  0.07893497,\n",
    "         0.12789202],\n",
    "       [ 0.28086119,  0.27569815,  0.08594638,  0.0178669 ,  0.18063401,\n",
    "         0.15899337],\n",
    "       [ 0.26076848,  0.23664738,  0.08020603,  0.07001922,  0.1134371 ,\n",
    "         0.23892179],\n",
    "       [ 0.11943333,  0.29198961,  0.02605103,  0.26234032,  0.1351348 ,\n",
    "         0.16505091],\n",
    "       [ 0.09561176,  0.34396535,  0.0643941 ,  0.16240774,  0.24206137,\n",
    "         0.09155967]])\n",
    "```\n",
    "\n",
    "Running it through `sess.run(tf.nn.top_k(tf.constant(a), k=3))` produces:\n",
    "\n",
    "```\n",
    "TopKV2(values=array([[ 0.34763842,  0.24879643,  0.12789202],\n",
    "       [ 0.28086119,  0.27569815,  0.18063401],\n",
    "       [ 0.26076848,  0.23892179,  0.23664738],\n",
    "       [ 0.29198961,  0.26234032,  0.16505091],\n",
    "       [ 0.34396535,  0.24206137,  0.16240774]]), indices=array([[3, 0, 5],\n",
    "       [0, 1, 4],\n",
    "       [0, 5, 1],\n",
    "       [1, 3, 5],\n",
    "       [1, 4, 3]], dtype=int32))\n",
    "```\n",
    "\n",
    "Looking just at the first row we get `[ 0.34763842,  0.24879643,  0.12789202]`, you can confirm these are the 3 largest probabilities in `a`. You'll also notice `[3, 0, 5]` are the corresponding indices."
   ]
  },
  {
   "cell_type": "code",
   "execution_count": 3,
   "metadata": {
    "collapsed": true
   },
   "outputs": [],
   "source": [
    "### Print out the top five softmax probabilities for the predictions on the German traffic sign images found on the web. \n",
    "### Feel free to use as many code cells as needed."
   ]
  },
  {
   "cell_type": "markdown",
   "metadata": {},
   "source": [
    "### Project Writeup\n",
    "\n",
    "Once you have completed the code implementation, document your results in a project writeup using this [template](https://github.com/udacity/CarND-Traffic-Sign-Classifier-Project/blob/master/writeup_template.md) as a guide. The writeup can be in a markdown or pdf file. "
   ]
  },
  {
   "cell_type": "markdown",
   "metadata": {},
   "source": [
    "> **Note**: Once you have completed all of the code implementations and successfully answered each question above, you may finalize your work by exporting the iPython Notebook as an HTML document. You can do this by using the menu above and navigating to  \\n\",\n",
    "    \"**File -> Download as -> HTML (.html)**. Include the finished document along with this notebook as your submission."
   ]
  },
  {
   "cell_type": "markdown",
   "metadata": {},
   "source": [
    "---\n",
    "\n",
    "## Step 4 (Optional): Visualize the Neural Network's State with Test Images\n",
    "\n",
    " This Section is not required to complete but acts as an additional excersise for understaning the output of a neural network's weights. While neural networks can be a great learning device they are often referred to as a black box. We can understand what the weights of a neural network look like better by plotting their feature maps. After successfully training your neural network you can see what it's feature maps look like by plotting the output of the network's weight layers in response to a test stimuli image. From these plotted feature maps, it's possible to see what characteristics of an image the network finds interesting. For a sign, maybe the inner network feature maps react with high activation to the sign's boundary outline or to the contrast in the sign's painted symbol.\n",
    "\n",
    " Provided for you below is the function code that allows you to get the visualization output of any tensorflow weight layer you want. The inputs to the function should be a stimuli image, one used during training or a new one you provided, and then the tensorflow variable name that represents the layer's state during the training process, for instance if you wanted to see what the [LeNet lab's](https://classroom.udacity.com/nanodegrees/nd013/parts/fbf77062-5703-404e-b60c-95b78b2f3f9e/modules/6df7ae49-c61c-4bb2-a23e-6527e69209ec/lessons/601ae704-1035-4287-8b11-e2c2716217ad/concepts/d4aca031-508f-4e0b-b493-e7b706120f81) feature maps looked like for it's second convolutional layer you could enter conv2 as the tf_activation variable.\n",
    "\n",
    "For an example of what feature map outputs look like, check out NVIDIA's results in their paper [End-to-End Deep Learning for Self-Driving Cars](https://devblogs.nvidia.com/parallelforall/deep-learning-self-driving-cars/) in the section Visualization of internal CNN State. NVIDIA was able to show that their network's inner weights had high activations to road boundary lines by comparing feature maps from an image with a clear path to one without. Try experimenting with a similar test to show that your trained network's weights are looking for interesting features, whether it's looking at differences in feature maps from images with or without a sign, or even what feature maps look like in a trained network vs a completely untrained one on the same sign image.\n",
    "\n",
    "<figure>\n",
    " <img src=\"visualize_cnn.png\" width=\"380\" alt=\"Combined Image\" />\n",
    " <figcaption>\n",
    " <p></p> \n",
    " <p style=\"text-align: center;\"> Your output should look something like this (above)</p> \n",
    " </figcaption>\n",
    "</figure>\n",
    " <p></p> \n"
   ]
  },
  {
   "cell_type": "code",
   "execution_count": null,
   "metadata": {
    "collapsed": true
   },
   "outputs": [],
   "source": [
    "### Visualize your network's feature maps here.\n",
    "### Feel free to use as many code cells as needed.\n",
    "\n",
    "# image_input: the test image being fed into the network to produce the feature maps\n",
    "# tf_activation: should be a tf variable name used during your training procedure that represents the calculated state of a specific weight layer\n",
    "# activation_min/max: can be used to view the activation contrast in more detail, by default matplot sets min and max to the actual min and max values of the output\n",
    "# plt_num: used to plot out multiple different weight feature map sets on the same block, just extend the plt number for each new feature map entry\n",
    "\n",
    "def outputFeatureMap(image_input, tf_activation, activation_min=-1, activation_max=-1 ,plt_num=1):\n",
    "    # Here make sure to preprocess your image_input in a way your network expects\n",
    "    # with size, normalization, ect if needed\n",
    "    # image_input =\n",
    "    # Note: x should be the same name as your network's tensorflow data placeholder variable\n",
    "    # If you get an error tf_activation is not defined it may be having trouble accessing the variable from inside a function\n",
    "    activation = tf_activation.eval(session=sess,feed_dict={x : image_input})\n",
    "    featuremaps = activation.shape[3]\n",
    "    plt.figure(plt_num, figsize=(15,15))\n",
    "    for featuremap in range(featuremaps):\n",
    "        plt.subplot(6,8, featuremap+1) # sets the number of feature maps to show on each row and column\n",
    "        plt.title('FeatureMap ' + str(featuremap)) # displays the feature map number\n",
    "        if activation_min != -1 & activation_max != -1:\n",
    "            plt.imshow(activation[0,:,:, featuremap], interpolation=\"nearest\", vmin =activation_min, vmax=activation_max, cmap=\"gray\")\n",
    "        elif activation_max != -1:\n",
    "            plt.imshow(activation[0,:,:, featuremap], interpolation=\"nearest\", vmax=activation_max, cmap=\"gray\")\n",
    "        elif activation_min !=-1:\n",
    "            plt.imshow(activation[0,:,:, featuremap], interpolation=\"nearest\", vmin=activation_min, cmap=\"gray\")\n",
    "        else:\n",
    "            plt.imshow(activation[0,:,:, featuremap], interpolation=\"nearest\", cmap=\"gray\")"
   ]
  }
 ],
 "metadata": {
  "anaconda-cloud": {},
  "kernelspec": {
   "display_name": "Python 3",
   "language": "python",
   "name": "python3"
  },
  "language_info": {
   "codemirror_mode": {
    "name": "ipython",
    "version": 3
   },
   "file_extension": ".py",
   "mimetype": "text/x-python",
   "name": "python",
   "nbconvert_exporter": "python",
   "pygments_lexer": "ipython3",
   "version": "3.6.3"
  },
  "widgets": {
   "state": {},
   "version": "1.1.2"
  }
 },
 "nbformat": 4,
 "nbformat_minor": 1
}
